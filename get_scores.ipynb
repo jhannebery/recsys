{
 "cells": [
  {
   "cell_type": "code",
   "execution_count": 26,
   "id": "5cd5d3f7",
   "metadata": {},
   "outputs": [],
   "source": [
    "import numpy as np\n",
    "import pandas as pd\n",
    "import matplotlib.pyplot as plt\n",
    "import heapq\n",
    "import os\n",
    "import time\n",
    "import math"
   ]
  },
  {
   "cell_type": "code",
   "execution_count": 27,
   "id": "36af9096",
   "metadata": {},
   "outputs": [],
   "source": [
    "dataset = 'last-fm'\n",
    "algorithm = 'kgat'"
   ]
  },
  {
   "cell_type": "code",
   "execution_count": 28,
   "id": "47f258f0",
   "metadata": {},
   "outputs": [
    {
     "name": "stdout",
     "output_type": "stream",
     "text": [
      "Dataset path: /Users/johnhannebery/gitrepos/recsys/Data/last-fm\n",
      "Embed path: /Users/johnhannebery/gitrepos/recsys/embeds/last-fm/kgat\n",
      "Plots path: /Users/johnhannebery/gitrepos/recsys/plots/last-fm\n",
      "Score path: /Users/johnhannebery/gitrepos/recsys/scores/last-fm/kgat\n"
     ]
    }
   ],
   "source": [
    "ds_path = os.path.join(os.getcwd(), f'Data/{dataset}')\n",
    "embed_path = os.path.join(os.getcwd(), f'embeds/{dataset}/{algorithm}')\n",
    "plot_path = os.path.join(os.getcwd(), f'plots/{dataset}')\n",
    "scores_path = os.path.join(os.getcwd(), f'scores/{dataset}/{algorithm}')\n",
    "print(\"Dataset path:\", ds_path)\n",
    "print(\"Embed path:\", embed_path)\n",
    "print(\"Plots path:\", plot_path)\n",
    "print(\"Score path:\", scores_path)"
   ]
  },
  {
   "cell_type": "code",
   "execution_count": 29,
   "id": "9f6e701a",
   "metadata": {},
   "outputs": [],
   "source": [
    "user_embed = pd.read_csv(os.path.join(embed_path,'user_embed.csv'))\n",
    "if algorithm == 'kgat':\n",
    "    item_embed = pd.read_csv(os.path.join(embed_path,'entity_embed.csv'))\n",
    "else:\n",
    "    item_embed = pd.read_csv(os.path.join(embed_path,'item_embed.csv'))"
   ]
  },
  {
   "cell_type": "code",
   "execution_count": 30,
   "id": "af3dc8e1",
   "metadata": {},
   "outputs": [],
   "source": [
    "user_list = user_embed['user_id'].tolist()"
   ]
  },
  {
   "cell_type": "code",
   "execution_count": 31,
   "id": "1f5062a3",
   "metadata": {},
   "outputs": [
    {
     "name": "stdout",
     "output_type": "stream",
     "text": [
      "23566\n"
     ]
    }
   ],
   "source": [
    "n_users = user_embed['user_id'].nunique()\n",
    "print(n_users)"
   ]
  },
  {
   "cell_type": "code",
   "execution_count": 32,
   "id": "b08d7ae6",
   "metadata": {},
   "outputs": [],
   "source": [
    "batch_size = 1000"
   ]
  },
  {
   "cell_type": "code",
   "execution_count": 33,
   "id": "3d5c632c",
   "metadata": {},
   "outputs": [
    {
     "name": "stdout",
     "output_type": "stream",
     "text": [
      "24\n"
     ]
    }
   ],
   "source": [
    "n_batches = math.ceil(n_users/batch_size)\n",
    "print(n_batches)"
   ]
  },
  {
   "cell_type": "code",
   "execution_count": 34,
   "id": "e86ec8de",
   "metadata": {},
   "outputs": [],
   "source": [
    "def get_scores(user_embed, item_embed, K=20):\n",
    "    u_e = user_embed.drop(columns={'user_id'}).values\n",
    "    i_e = item_embed.drop(columns={'item_id'}).values\n",
    "\n",
    "    dot = np.matmul(u_e, i_e.T)\n",
    "\n",
    "    scores = user_embed[['user_id']].assign(a=1).merge(item_embed[['item_id']].assign(a=1)).drop(columns=['a'])\n",
    "    scores['score'] = dot.flatten()\n",
    "    scores = scores.sort_values('score',ascending=False)\n",
    "    scores['rank'] = scores.groupby('user_id').cumcount() + 1\n",
    "    \n",
    "    return scores[scores['rank']<=K]"
   ]
  },
  {
   "cell_type": "code",
   "execution_count": 35,
   "id": "734f0e0a",
   "metadata": {},
   "outputs": [
    {
     "name": "stdout",
     "output_type": "stream",
     "text": [
      "0\n",
      "1\n",
      "2\n",
      "3\n",
      "4\n",
      "5\n",
      "6\n",
      "7\n",
      "8\n",
      "9\n",
      "10\n",
      "11\n",
      "12\n",
      "13\n",
      "14\n",
      "15\n",
      "16\n",
      "17\n",
      "18\n",
      "19\n",
      "20\n",
      "21\n",
      "22\n",
      "23\n"
     ]
    }
   ],
   "source": [
    "score_df_list = []\n",
    "for b in range(n_batches):\n",
    "    print(b)\n",
    "    user_list_batch = user_list[b*batch_size:(b+1)*batch_size]\n",
    "    user_embed_batch = user_embed[user_embed['user_id'].isin(user_list_batch)]\n",
    "    \n",
    "    scores_batch = get_scores(user_embed_batch, item_embed)\n",
    "    score_df_list.append(scores_batch)"
   ]
  },
  {
   "cell_type": "code",
   "execution_count": 36,
   "id": "735d90f5",
   "metadata": {},
   "outputs": [],
   "source": [
    "scores_df = pd.concat(score_df_list)"
   ]
  },
  {
   "cell_type": "code",
   "execution_count": 37,
   "id": "d1c7243c",
   "metadata": {},
   "outputs": [],
   "source": [
    "#write scores to loc\n",
    "scores_df.to_csv(os.path.join(scores_path,'scores_df.csv'))"
   ]
  },
  {
   "cell_type": "code",
   "execution_count": null,
   "id": "7488ccb0",
   "metadata": {},
   "outputs": [],
   "source": []
  }
 ],
 "metadata": {
  "kernelspec": {
   "display_name": "Python 3 (ipykernel)",
   "language": "python",
   "name": "python3"
  },
  "language_info": {
   "codemirror_mode": {
    "name": "ipython",
    "version": 3
   },
   "file_extension": ".py",
   "mimetype": "text/x-python",
   "name": "python",
   "nbconvert_exporter": "python",
   "pygments_lexer": "ipython3",
   "version": "3.8.13"
  }
 },
 "nbformat": 4,
 "nbformat_minor": 5
}
